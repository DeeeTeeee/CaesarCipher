{
 "cells": [
  {
   "cell_type": "markdown",
   "id": "4e428254",
   "metadata": {},
   "source": [
    "## The program below allows the user the option to choose whether to encypt or decrypt based on the Ceasar cipher encryption  decryption algorithm"
   ]
  },
  {
   "cell_type": "code",
   "execution_count": 23,
   "id": "cc624fc1",
   "metadata": {},
   "outputs": [
    {
     "name": "stdout",
     "output_type": "stream",
     "text": [
      "Encrypt or Decrypt text?decrypt\n",
      "\n",
      "Enter message to decrypt: QEB NRFZH YOLTK CLU GRJMP LSBO QEB IXWV ALD\n",
      "\n",
      "Message is : THE QUICK BROWN FOX JUMPS OVER THE LAZY DOG\n"
     ]
    }
   ],
   "source": [
    "#This function performs the Ceasar Cipher Cryption and Decryption\n",
    "# n = the number of shifts\n",
    "\n",
    "def encrypt_decrypt_text(text, n):\n",
    "    result = ''\n",
    "  \n",
    "#iterate over the length of input text\n",
    "    for i in range(len(text)):\n",
    "        char= text[i]\n",
    "        \n",
    "#condition 1: Spaces in the input text       \n",
    "        if char == ' ':\n",
    "            result+=' '\n",
    "            \n",
    "#condition 2: Input text in upper cases\n",
    "        elif (char.isupper()):\n",
    "            value= (ord(char)+n-65)% 26 + 65\n",
    "            result+= chr(value)\n",
    "            \n",
    "#condition 3: Input text in lower cases\n",
    "        elif (char.islower()):\n",
    "            value =(ord(char)+n-97)%26 +97\n",
    "            result+=chr(value)\n",
    " #condition 4: Input text is digit\n",
    "\n",
    "        elif  (char.isdigit()):\n",
    "            value = char\n",
    "            result+=value\n",
    "#Final result\n",
    "    return result\n",
    "\n",
    "\n",
    "#User Input on what action to perform\n",
    "option = input('Encrypt or Decrypt text?').capitalize()\n",
    "\n",
    "#When action is to Encrypt\n",
    "#n is set to 23 to the right or 3 shift to the left\n",
    "if option == 'Encrypt':\n",
    "    text= input('\\nEnter plaintext to Encrypt:  ')\n",
    "    n = 23\n",
    "    print(\"\\nCipher Text is : \" + encrypt_decrypt_text(text,n))\n",
    "    \n",
    "#When action is to Decrypt\n",
    "#n is set to 3 shift to the right\n",
    "elif option =='Decrypt':\n",
    "    text =input('\\nEnter message to decrypt: ')\n",
    "    n = 3\n",
    "    print(\"\\nMessage is : \" + encrypt_decrypt_text(text,n))\n",
    "\n",
    "else:\n",
    "    print('Invalid option')"
   ]
  },
  {
   "cell_type": "markdown",
   "id": "9f142b7b",
   "metadata": {},
   "source": [
    "## The program allows the user to select shift  for encryption or decryption of text"
   ]
  },
  {
   "cell_type": "code",
   "execution_count": 16,
   "id": "b316eeca",
   "metadata": {},
   "outputs": [
    {
     "name": "stdout",
     "output_type": "stream",
     "text": [
      "Enter you text: THE QUICK BROWN FOX JUMPS OVER THE LAZY DOG\n",
      "Enter the Shift Key: 3\n",
      "QEB NRFZH YOLTK CLU GRJMP LSBO QEB IXWV ALD\n"
     ]
    }
   ],
   "source": [
    "\n",
    "#Cipher(n) = De-cipher(26-n)\n",
    "#n is the interga by which the letters will be shifted we use 3\n",
    "\n",
    " \n",
    "\n",
    "\n",
    "#Collect the plaintext and the shiftkey\n",
    "plaintext= input('Enter you text: ')\n",
    "shift = int(input('Enter the Shift Key: '))\n",
    "\n",
    " \n",
    "\n",
    "#definations\n",
    "def caesar_cipher(plaintext, n):\n",
    "    ciphertext = \"\"\n",
    "\n",
    "# iterate over the given text\n",
    "    for ch in plaintext:\n",
    "        if ch.isalpha():\n",
    "            n = (n % 26)\n",
    "            code = ord(ch) + n\n",
    "            if ch.isupper():\n",
    "                if code > ord('Z'):\n",
    "                    code -= 26\n",
    "                elif code < ord('A'):\n",
    "                    code += 26\n",
    "            else:\n",
    "                if code > ord('z'):\n",
    "                    code -= 26\n",
    "                elif code < ord('a'):\n",
    "                    code += 26\n",
    "            ciphertext += chr(code)\n",
    "        else:\n",
    "            ciphertext += ch\n",
    "    return ciphertext\n",
    "\n",
    " \n",
    "\n",
    "#print\n",
    "\n",
    " \n",
    "\n",
    "#plaintext = \"THE QUICK BROWN FOX JUMPS OVER THE LAZY DOG\"\n",
    "#shift = 3\n",
    "ciphertext = caesar_cipher(plaintext, n)\n",
    "print(ciphertext)"
   ]
  }
 ],
 "metadata": {
  "kernelspec": {
   "display_name": "Python 3 (ipykernel)",
   "language": "python",
   "name": "python3"
  },
  "language_info": {
   "codemirror_mode": {
    "name": "ipython",
    "version": 3
   },
   "file_extension": ".py",
   "mimetype": "text/x-python",
   "name": "python",
   "nbconvert_exporter": "python",
   "pygments_lexer": "ipython3",
   "version": "3.9.7"
  }
 },
 "nbformat": 4,
 "nbformat_minor": 5
}
